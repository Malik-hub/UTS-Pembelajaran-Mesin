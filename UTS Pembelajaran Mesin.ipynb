{
 "cells": [
  {
   "cell_type": "markdown",
   "metadata": {
    "id": "WocGjn2guOd-"
   },
   "source": [
    "# UTS Pembelajaran Mesin\n",
    "\n",
    "Nurmalik Fajar\n",
    "1197050101\n",
    "C"
   ]
  },
  {
   "cell_type": "markdown",
   "metadata": {
    "id": "qT1JXeHAuU9H"
   },
   "source": [
    "# Mempelajari Data Pasien Penyakit Jantung \n",
    "\n",
    "Mini Riset ini mengenai klasifikasi pasien yang memiliki penyakit jantung dengan beberapa faktor menggunakan algoritma SVM"
   ]
  },
  {
   "cell_type": "markdown",
   "metadata": {
    "id": "qr5yU7CouZX_"
   },
   "source": [
    "# Business Understanding\n",
    "\n",
    "## Objektif Bisnis\n",
    "\n",
    "### Latar Belakang\n",
    "Penyakit jantung adalah kondisi ketika jantung mengalami gangguan. Bentuk gangguan itu sendiri bermacam-macam, bisa berupa gangguan pada pembuluh darah jantung, katup jantung, atau otot jantung. Penyakit jantung juga dapat disebabkan oleh infeksi atau kelainan lahir. \n",
    "Penyakit Jantung masih menjadi penyebab kematian tertinggi di USA hingga saat ini. Oleh karena itu memprediksi apakah pasien akan mengalami penyakit jantung di masa depan sangatlah dibutuhkan untuk pasien dan dokter. Pada Dataset ini dilakukan percobaan untuk memprediksi apakah seorang pasien akan memiliki penyakit jantung dari berbagai faktor mulai dari BMI hingga status Kanker kulit pasien. \n",
    "\n",
    "### Identifikasi Masalah\n",
    "Dari latar belakang di atas maka identifikasi masalah yang dapat diambil ialah: \n",
    "-Apakah ada faktor yang dapat memprediksi penyakit jantung ?\n",
    "\n",
    "### Metode/Pendekatan Penyelesaian Masalah\n",
    "Pendekatan Penyelesaian Masalah pada Mini Riset ini ialah sebagai berikut. \n",
    "1. Memahami masalah\n",
    "2. Membuat rencana untuk menyelesaikan masalah\n",
    "3. Melaksanakan rencana pada tahap 2 \n",
    "4. Memeriksa ulang hasil yang didapatkan\n",
    "\n",
    "dengan Metode penyelesaian masalah sebagai berikut. \n",
    "1. Data Understanding \n",
    "2. Data Preparation\n",
    "3. Modeling\n",
    "4. Evaluation\n",
    "\n",
    "## Tujuan Teknis dan Kriteria Kesuksesan\n",
    "Mini Riset ini bertujuan untuk mengetahui apakah ada faktor yang dapat dijadikan prediksi apakah pasien akan menderita penyakit jantung. Kriteria kesuksesan Mini Riset ini adalah ketika Dataset ini dapat memberikan kesimpulan apakah faktor-faktor dalam dataset dapat melakukan prediksi ya atau tidak penyakit jantung pada pasien. "
   ]
  },
  {
   "cell_type": "markdown",
   "metadata": {
    "id": "qsJLBCR3ub6y"
   },
   "source": [
    "# Data Understanding\n",
    "\n",
    "Membahas Kebutuhan Data; Pengambilan Data; Integrasi Data; Telaah Data; Analisis Karakteristik Data; Validasi Data\n",
    "\n",
    "Dataset ini berasal dari data CDC (Center for Disease Control). Dataset ini memiliki 17 dimensi dan 320000 data dari rekam medis. Dimensi yang ada yaitu sebagai berikut. \n",
    "\n",
    "    ini rincian atribut/fitur/independent variable/kriteria:\n",
    "\n",
    "    BMI - merepresentasikan besar angka BMI (float)\n",
    "    Smoking - merepresentasikan apakah pasien perokok (ya/tidak)\n",
    "    AlcoholDrinking - merepresentasikan apakah pasien mengkonsumsi alkohol (ya/tidak)\n",
    "    Stroke - merepresentasikan apakah pasien menderita stroke (ya/tidak)\n",
    "    PhysicalHealth - merepresentasikan nilai kesehatan jasmani (float)\n",
    "    MentalHealth - merepresentasikan nilai kesehatan mental (float)\n",
    "    DiffWalking - merepresentasikan apakah pasien mengalami kesulitan berjalan (ya/tidak)\n",
    "    Sex - merepresentasikan jenis kelamin pasien (perempuan/laki-laki)\n",
    "    AgeCategory - merepresentasikan kategori umur pasien (per 10 tahun, 80 ke atas)\n",
    "    Race - merepresentasikan ras pasien (white, black, latin, etc)\n",
    "    Diabetic - merepresentasikan apakah pasien menderita diabetes (ya/tidak)\n",
    "    PhysicalActivity - merepresentasikan apakah pasien melakukan aktifitas fisik (ya/tidak)\n",
    "    GenHealth - merepresentasikan kesehatan pasien secara umum (very bad - very good)\n",
    "    SleepTime - merepresentasikan berapa lama pasien tidur setiap harinya (float)\n",
    "    Asthma - merepresentasikan apakah pasien menderita asthma (ya/tidak)\n",
    "    KidneyDisease - merepresentasikan apakah pasien menderita penyakit ginjal (ya/tidak)\n",
    "    SkinCancer - merepresentasikan apakah pasien menderita kanker kulit (ya/tidak)\n",
    "\n",
    "kolom yang dijadikan prediksi adalah kolom yang bertipe data float yaitu kolom 1,5,6, dan 14. \n",
    "\n",
    "    ini variabel target/dependet variable/class/label\n",
    "    HeartDisease - merepresentasikan apakah pasien menderita penyakit jantung (ya/tidak)\n"
   ]
  },
  {
   "cell_type": "markdown",
   "metadata": {
    "id": "XvdtkxHMujDc"
   },
   "source": [
    "# Data Preparation\n",
    "Melakukan Load data, pemilahan data, hingga integrasi data. Pada mini riset ini data yang diambil berasal dari kolom data bertipe data float. Jumlah baris pada Dataset ini sebanyak 320000, pada riset ini hanya diambil 100000 data pertama saja.   "
   ]
  },
  {
   "cell_type": "code",
   "execution_count": 1,
   "metadata": {
    "colab": {
     "base_uri": "https://localhost:8080/",
     "height": 270
    },
    "id": "nyZrrM0Dunz1",
    "outputId": "48db1e62-7b7c-4a04-96cd-66aef949447d"
   },
   "outputs": [
    {
     "data": {
      "text/html": [
       "<div>\n",
       "<style scoped>\n",
       "    .dataframe tbody tr th:only-of-type {\n",
       "        vertical-align: middle;\n",
       "    }\n",
       "\n",
       "    .dataframe tbody tr th {\n",
       "        vertical-align: top;\n",
       "    }\n",
       "\n",
       "    .dataframe thead th {\n",
       "        text-align: right;\n",
       "    }\n",
       "</style>\n",
       "<table border=\"1\" class=\"dataframe\">\n",
       "  <thead>\n",
       "    <tr style=\"text-align: right;\">\n",
       "      <th></th>\n",
       "      <th>HeartDisease</th>\n",
       "      <th>BMI</th>\n",
       "      <th>Smoking</th>\n",
       "      <th>AlcoholDrinking</th>\n",
       "      <th>Stroke</th>\n",
       "      <th>PhysicalHealth</th>\n",
       "      <th>MentalHealth</th>\n",
       "      <th>DiffWalking</th>\n",
       "      <th>Sex</th>\n",
       "      <th>AgeCategory</th>\n",
       "      <th>Race</th>\n",
       "      <th>Diabetic</th>\n",
       "      <th>PhysicalActivity</th>\n",
       "      <th>GenHealth</th>\n",
       "      <th>SleepTime</th>\n",
       "      <th>Asthma</th>\n",
       "      <th>KidneyDisease</th>\n",
       "      <th>SkinCancer</th>\n",
       "    </tr>\n",
       "  </thead>\n",
       "  <tbody>\n",
       "    <tr>\n",
       "      <th>0</th>\n",
       "      <td>No</td>\n",
       "      <td>16.60</td>\n",
       "      <td>Yes</td>\n",
       "      <td>No</td>\n",
       "      <td>No</td>\n",
       "      <td>3.0</td>\n",
       "      <td>30.0</td>\n",
       "      <td>No</td>\n",
       "      <td>Female</td>\n",
       "      <td>55-59</td>\n",
       "      <td>White</td>\n",
       "      <td>Yes</td>\n",
       "      <td>Yes</td>\n",
       "      <td>Very good</td>\n",
       "      <td>5.0</td>\n",
       "      <td>Yes</td>\n",
       "      <td>No</td>\n",
       "      <td>Yes</td>\n",
       "    </tr>\n",
       "    <tr>\n",
       "      <th>1</th>\n",
       "      <td>No</td>\n",
       "      <td>20.34</td>\n",
       "      <td>No</td>\n",
       "      <td>No</td>\n",
       "      <td>Yes</td>\n",
       "      <td>0.0</td>\n",
       "      <td>0.0</td>\n",
       "      <td>No</td>\n",
       "      <td>Female</td>\n",
       "      <td>80 or older</td>\n",
       "      <td>White</td>\n",
       "      <td>No</td>\n",
       "      <td>Yes</td>\n",
       "      <td>Very good</td>\n",
       "      <td>7.0</td>\n",
       "      <td>No</td>\n",
       "      <td>No</td>\n",
       "      <td>No</td>\n",
       "    </tr>\n",
       "    <tr>\n",
       "      <th>2</th>\n",
       "      <td>No</td>\n",
       "      <td>26.58</td>\n",
       "      <td>Yes</td>\n",
       "      <td>No</td>\n",
       "      <td>No</td>\n",
       "      <td>20.0</td>\n",
       "      <td>30.0</td>\n",
       "      <td>No</td>\n",
       "      <td>Male</td>\n",
       "      <td>65-69</td>\n",
       "      <td>White</td>\n",
       "      <td>Yes</td>\n",
       "      <td>Yes</td>\n",
       "      <td>Fair</td>\n",
       "      <td>8.0</td>\n",
       "      <td>Yes</td>\n",
       "      <td>No</td>\n",
       "      <td>No</td>\n",
       "    </tr>\n",
       "    <tr>\n",
       "      <th>3</th>\n",
       "      <td>No</td>\n",
       "      <td>24.21</td>\n",
       "      <td>No</td>\n",
       "      <td>No</td>\n",
       "      <td>No</td>\n",
       "      <td>0.0</td>\n",
       "      <td>0.0</td>\n",
       "      <td>No</td>\n",
       "      <td>Female</td>\n",
       "      <td>75-79</td>\n",
       "      <td>White</td>\n",
       "      <td>No</td>\n",
       "      <td>No</td>\n",
       "      <td>Good</td>\n",
       "      <td>6.0</td>\n",
       "      <td>No</td>\n",
       "      <td>No</td>\n",
       "      <td>Yes</td>\n",
       "    </tr>\n",
       "    <tr>\n",
       "      <th>4</th>\n",
       "      <td>No</td>\n",
       "      <td>23.71</td>\n",
       "      <td>No</td>\n",
       "      <td>No</td>\n",
       "      <td>No</td>\n",
       "      <td>28.0</td>\n",
       "      <td>0.0</td>\n",
       "      <td>Yes</td>\n",
       "      <td>Female</td>\n",
       "      <td>40-44</td>\n",
       "      <td>White</td>\n",
       "      <td>No</td>\n",
       "      <td>Yes</td>\n",
       "      <td>Very good</td>\n",
       "      <td>8.0</td>\n",
       "      <td>No</td>\n",
       "      <td>No</td>\n",
       "      <td>No</td>\n",
       "    </tr>\n",
       "  </tbody>\n",
       "</table>\n",
       "</div>"
      ],
      "text/plain": [
       "  HeartDisease    BMI Smoking AlcoholDrinking Stroke  PhysicalHealth  \\\n",
       "0           No  16.60     Yes              No     No             3.0   \n",
       "1           No  20.34      No              No    Yes             0.0   \n",
       "2           No  26.58     Yes              No     No            20.0   \n",
       "3           No  24.21      No              No     No             0.0   \n",
       "4           No  23.71      No              No     No            28.0   \n",
       "\n",
       "   MentalHealth DiffWalking     Sex  AgeCategory   Race Diabetic  \\\n",
       "0          30.0          No  Female        55-59  White      Yes   \n",
       "1           0.0          No  Female  80 or older  White       No   \n",
       "2          30.0          No    Male        65-69  White      Yes   \n",
       "3           0.0          No  Female        75-79  White       No   \n",
       "4           0.0         Yes  Female        40-44  White       No   \n",
       "\n",
       "  PhysicalActivity  GenHealth  SleepTime Asthma KidneyDisease SkinCancer  \n",
       "0              Yes  Very good        5.0    Yes            No        Yes  \n",
       "1              Yes  Very good        7.0     No            No         No  \n",
       "2              Yes       Fair        8.0    Yes            No         No  \n",
       "3               No       Good        6.0     No            No        Yes  \n",
       "4              Yes  Very good        8.0     No            No         No  "
      ]
     },
     "execution_count": 1,
     "metadata": {},
     "output_type": "execute_result"
    }
   ],
   "source": [
    "import numpy as np\n",
    "import pandas as pd\n",
    "import tensorflow as tf\n",
    "\n",
    "# load data\n",
    "\n",
    "url = 'https://raw.githubusercontent.com/Malik-hub/UTS-Pembelajaran-Mesin/main/heart_2020_cleaned.csv'\n",
    "df = pd.read_csv(url, sep=',', nrows=100000) #membaca 100000 data pertama\n",
    "\n",
    "df.head()"
   ]
  },
  {
   "cell_type": "code",
   "execution_count": 2,
   "metadata": {
    "colab": {
     "base_uri": "https://localhost:8080/"
    },
    "id": "-geO3NSXwsI1",
    "outputId": "249b9122-6ac2-4773-a36e-6d8c1476484e"
   },
   "outputs": [
    {
     "name": "stdout",
     "output_type": "stream",
     "text": [
      "<class 'pandas.core.frame.DataFrame'>\n",
      "RangeIndex: 100000 entries, 0 to 99999\n",
      "Data columns (total 18 columns):\n",
      " #   Column            Non-Null Count   Dtype  \n",
      "---  ------            --------------   -----  \n",
      " 0   HeartDisease      100000 non-null  object \n",
      " 1   BMI               100000 non-null  float64\n",
      " 2   Smoking           100000 non-null  object \n",
      " 3   AlcoholDrinking   100000 non-null  object \n",
      " 4   Stroke            100000 non-null  object \n",
      " 5   PhysicalHealth    100000 non-null  float64\n",
      " 6   MentalHealth      100000 non-null  float64\n",
      " 7   DiffWalking       100000 non-null  object \n",
      " 8   Sex               100000 non-null  object \n",
      " 9   AgeCategory       100000 non-null  object \n",
      " 10  Race              100000 non-null  object \n",
      " 11  Diabetic          100000 non-null  object \n",
      " 12  PhysicalActivity  100000 non-null  object \n",
      " 13  GenHealth         100000 non-null  object \n",
      " 14  SleepTime         100000 non-null  float64\n",
      " 15  Asthma            100000 non-null  object \n",
      " 16  KidneyDisease     100000 non-null  object \n",
      " 17  SkinCancer        100000 non-null  object \n",
      "dtypes: float64(4), object(14)\n",
      "memory usage: 13.7+ MB\n"
     ]
    }
   ],
   "source": [
    "df.info()\n",
    "\n",
    "# pastikan tidak ada yg null"
   ]
  },
  {
   "cell_type": "code",
   "execution_count": 3,
   "metadata": {
    "id": "R3BLCSURxL1Y"
   },
   "outputs": [],
   "source": [
    "# set independent variable yaitu BMI, PhysicalHealth, MentalHealth, dan SleepTime\n",
    "X = df.iloc[:, [1,5,6,14]]\n",
    "#memilih type data float saja \n",
    " \n",
    "# set dependent variable/clas/target/label\n",
    "y = df['HeartDisease']"
   ]
  },
  {
   "cell_type": "code",
   "execution_count": 4,
   "metadata": {
    "colab": {
     "base_uri": "https://localhost:8080/",
     "height": 424
    },
    "id": "x3YLaPjayg4h",
    "outputId": "4219bbb6-074a-46fd-94ad-1fcf6e5052f7"
   },
   "outputs": [
    {
     "data": {
      "text/html": [
       "<div>\n",
       "<style scoped>\n",
       "    .dataframe tbody tr th:only-of-type {\n",
       "        vertical-align: middle;\n",
       "    }\n",
       "\n",
       "    .dataframe tbody tr th {\n",
       "        vertical-align: top;\n",
       "    }\n",
       "\n",
       "    .dataframe thead th {\n",
       "        text-align: right;\n",
       "    }\n",
       "</style>\n",
       "<table border=\"1\" class=\"dataframe\">\n",
       "  <thead>\n",
       "    <tr style=\"text-align: right;\">\n",
       "      <th></th>\n",
       "      <th>BMI</th>\n",
       "      <th>PhysicalHealth</th>\n",
       "      <th>MentalHealth</th>\n",
       "      <th>SleepTime</th>\n",
       "    </tr>\n",
       "  </thead>\n",
       "  <tbody>\n",
       "    <tr>\n",
       "      <th>0</th>\n",
       "      <td>16.60</td>\n",
       "      <td>3.0</td>\n",
       "      <td>30.0</td>\n",
       "      <td>5.0</td>\n",
       "    </tr>\n",
       "    <tr>\n",
       "      <th>1</th>\n",
       "      <td>20.34</td>\n",
       "      <td>0.0</td>\n",
       "      <td>0.0</td>\n",
       "      <td>7.0</td>\n",
       "    </tr>\n",
       "    <tr>\n",
       "      <th>2</th>\n",
       "      <td>26.58</td>\n",
       "      <td>20.0</td>\n",
       "      <td>30.0</td>\n",
       "      <td>8.0</td>\n",
       "    </tr>\n",
       "    <tr>\n",
       "      <th>3</th>\n",
       "      <td>24.21</td>\n",
       "      <td>0.0</td>\n",
       "      <td>0.0</td>\n",
       "      <td>6.0</td>\n",
       "    </tr>\n",
       "    <tr>\n",
       "      <th>4</th>\n",
       "      <td>23.71</td>\n",
       "      <td>28.0</td>\n",
       "      <td>0.0</td>\n",
       "      <td>8.0</td>\n",
       "    </tr>\n",
       "    <tr>\n",
       "      <th>...</th>\n",
       "      <td>...</td>\n",
       "      <td>...</td>\n",
       "      <td>...</td>\n",
       "      <td>...</td>\n",
       "    </tr>\n",
       "    <tr>\n",
       "      <th>99995</th>\n",
       "      <td>31.09</td>\n",
       "      <td>30.0</td>\n",
       "      <td>15.0</td>\n",
       "      <td>6.0</td>\n",
       "    </tr>\n",
       "    <tr>\n",
       "      <th>99996</th>\n",
       "      <td>29.53</td>\n",
       "      <td>0.0</td>\n",
       "      <td>0.0</td>\n",
       "      <td>7.0</td>\n",
       "    </tr>\n",
       "    <tr>\n",
       "      <th>99997</th>\n",
       "      <td>38.65</td>\n",
       "      <td>0.0</td>\n",
       "      <td>0.0</td>\n",
       "      <td>7.0</td>\n",
       "    </tr>\n",
       "    <tr>\n",
       "      <th>99998</th>\n",
       "      <td>50.84</td>\n",
       "      <td>30.0</td>\n",
       "      <td>0.0</td>\n",
       "      <td>4.0</td>\n",
       "    </tr>\n",
       "    <tr>\n",
       "      <th>99999</th>\n",
       "      <td>24.02</td>\n",
       "      <td>25.0</td>\n",
       "      <td>25.0</td>\n",
       "      <td>6.0</td>\n",
       "    </tr>\n",
       "  </tbody>\n",
       "</table>\n",
       "<p>100000 rows × 4 columns</p>\n",
       "</div>"
      ],
      "text/plain": [
       "         BMI  PhysicalHealth  MentalHealth  SleepTime\n",
       "0      16.60             3.0          30.0        5.0\n",
       "1      20.34             0.0           0.0        7.0\n",
       "2      26.58            20.0          30.0        8.0\n",
       "3      24.21             0.0           0.0        6.0\n",
       "4      23.71            28.0           0.0        8.0\n",
       "...      ...             ...           ...        ...\n",
       "99995  31.09            30.0          15.0        6.0\n",
       "99996  29.53             0.0           0.0        7.0\n",
       "99997  38.65             0.0           0.0        7.0\n",
       "99998  50.84            30.0           0.0        4.0\n",
       "99999  24.02            25.0          25.0        6.0\n",
       "\n",
       "[100000 rows x 4 columns]"
      ]
     },
     "execution_count": 4,
     "metadata": {},
     "output_type": "execute_result"
    }
   ],
   "source": [
    "X"
   ]
  },
  {
   "cell_type": "code",
   "execution_count": 5,
   "metadata": {
    "colab": {
     "base_uri": "https://localhost:8080/"
    },
    "id": "xh4Q-86bylBW",
    "outputId": "63f1725e-33da-4b39-d9ff-6a2b5ad5248d"
   },
   "outputs": [
    {
     "data": {
      "text/plain": [
       "0         No\n",
       "1         No\n",
       "2         No\n",
       "3         No\n",
       "4         No\n",
       "        ... \n",
       "99995     No\n",
       "99996     No\n",
       "99997     No\n",
       "99998     No\n",
       "99999    Yes\n",
       "Name: HeartDisease, Length: 100000, dtype: object"
      ]
     },
     "execution_count": 5,
     "metadata": {},
     "output_type": "execute_result"
    }
   ],
   "source": [
    "y"
   ]
  },
  {
   "cell_type": "code",
   "execution_count": 6,
   "metadata": {
    "id": "f4P8aroTypuz"
   },
   "outputs": [],
   "source": [
    "# terdapat fitur yang gak sama skalanya seperti BMI dan SleepTime jadi perlu dibuat sama skalanya dengan StandardScaler()\n",
    "\n",
    "from sklearn.preprocessing import StandardScaler\n",
    " \n",
    "# standarisasi nilai-nilai dari dataset\n",
    "scaler = StandardScaler()\n",
    "scaler.fit(X)\n",
    "X = scaler.transform(X)\n"
   ]
  },
  {
   "cell_type": "code",
   "execution_count": 7,
   "metadata": {
    "colab": {
     "base_uri": "https://localhost:8080/"
    },
    "id": "HjUoPVorzPvV",
    "outputId": "4ac0e043-88bf-435d-b8ff-9e0b905f36ba"
   },
   "outputs": [
    {
     "data": {
      "text/plain": [
       "array([[-1.82236734, -0.05648764,  3.2814416 , -1.42311743],\n",
       "       [-1.23583865, -0.43012437, -0.49122076, -0.06756739],\n",
       "       [-0.25724533,  2.06078711,  3.2814416 ,  0.61020763],\n",
       "       ...,\n",
       "       [ 1.6356427 , -0.43012437, -0.49122076, -0.06756739],\n",
       "       [ 3.54734984,  3.30624284, -0.49122076, -2.10089245],\n",
       "       [-0.65871952,  2.68351498,  2.65266454, -0.74534241]])"
      ]
     },
     "execution_count": 7,
     "metadata": {},
     "output_type": "execute_result"
    }
   ],
   "source": [
    "X"
   ]
  },
  {
   "cell_type": "markdown",
   "metadata": {
    "id": "adscX9LYzX9u"
   },
   "source": [
    "# Modeling\n",
    "Dilakukan fitting model, memisahkan data untuk training 80% dan testing 20%. Dilakukan juga fitting algoritma svm dengan rbf kernel. "
   ]
  },
  {
   "cell_type": "code",
   "execution_count": 8,
   "metadata": {
    "id": "-pjdnG0vzem_"
   },
   "outputs": [],
   "source": [
    "import warnings\n",
    "warnings.filterwarnings('ignore')\n",
    "\n",
    "# training 80% testing 20%\n",
    "\n",
    "from sklearn.model_selection import train_test_split\n",
    " \n",
    "# memisahkan data untuk training dan testing\n",
    "X_train, X_test, y_train, y_test = train_test_split(\n",
    "    X, y, test_size=0.2, random_state=100)"
   ]
  },
  {
   "cell_type": "code",
   "execution_count": 9,
   "metadata": {
    "id": "FFUdkBEIF_Bb"
   },
   "outputs": [],
   "source": [
    "# fiting algoritma SVM dengan rbf kernal\n",
    "\n",
    "from sklearn.svm import SVC\n",
    " \n",
    "# membuat objek SVC dan memanggil fungsi fit untuk melatih model\n",
    "clf = SVC(kernel='rbf')\n",
    "clf.fit(X_train, y_train)\n",
    "\n",
    "#Predict the response for test dataset\n",
    "y_pred = clf.predict(X_test)"
   ]
  },
  {
   "cell_type": "markdown",
   "metadata": {
    "id": "DVjCkv6zHGQs"
   },
   "source": [
    "# Evaluasi\n",
    "Membahas mengenai hasil pengujian terhadap model."
   ]
  },
  {
   "cell_type": "code",
   "execution_count": 10,
   "metadata": {
    "colab": {
     "base_uri": "https://localhost:8080/"
    },
    "id": "bLrC3sy8HNxk",
    "outputId": "e0d8f7c5-2f8d-497e-b483-61788f7d146e"
   },
   "outputs": [
    {
     "data": {
      "text/plain": [
       "0.91325"
      ]
     },
     "execution_count": 10,
     "metadata": {},
     "output_type": "execute_result"
    }
   ],
   "source": [
    "# Menampilkan skor akurasi prediksi\n",
    "clf.score(X_test, y_test)"
   ]
  },
  {
   "cell_type": "code",
   "execution_count": 11,
   "metadata": {
    "colab": {
     "base_uri": "https://localhost:8080/"
    },
    "id": "Dvqj2r6JHSH4",
    "outputId": "5387a63b-b80b-4ec4-e635-7283e980ace4"
   },
   "outputs": [
    {
     "name": "stdout",
     "output_type": "stream",
     "text": [
      "              precision    recall  f1-score   support\n",
      "\n",
      "          No       0.91      1.00      0.95     18266\n",
      "         Yes       0.00      0.00      0.00      1734\n",
      "\n",
      "    accuracy                           0.91     20000\n",
      "   macro avg       0.46      0.50      0.48     20000\n",
      "weighted avg       0.83      0.91      0.87     20000\n",
      "\n"
     ]
    }
   ],
   "source": [
    "from sklearn.metrics import classification_report\n",
    "print(classification_report(y_test, y_pred))"
   ]
  },
  {
   "cell_type": "code",
   "execution_count": 12,
   "metadata": {
    "colab": {
     "base_uri": "https://localhost:8080/",
     "height": 239
    },
    "id": "ZuXIuVa9HVNa",
    "outputId": "239b770e-2f6d-4e49-ccd0-3b92b4a21350"
   },
   "outputs": [
    {
     "data": {
      "text/html": [
       "<div>\n",
       "<style scoped>\n",
       "    .dataframe tbody tr th:only-of-type {\n",
       "        vertical-align: middle;\n",
       "    }\n",
       "\n",
       "    .dataframe tbody tr th {\n",
       "        vertical-align: top;\n",
       "    }\n",
       "\n",
       "    .dataframe thead th {\n",
       "        text-align: right;\n",
       "    }\n",
       "</style>\n",
       "<table border=\"1\" class=\"dataframe\">\n",
       "  <thead>\n",
       "    <tr style=\"text-align: right;\">\n",
       "      <th></th>\n",
       "      <th>HeartDisease</th>\n",
       "      <th>BMI</th>\n",
       "      <th>Smoking</th>\n",
       "      <th>AlcoholDrinking</th>\n",
       "      <th>Stroke</th>\n",
       "      <th>PhysicalHealth</th>\n",
       "      <th>MentalHealth</th>\n",
       "      <th>DiffWalking</th>\n",
       "      <th>Sex</th>\n",
       "      <th>AgeCategory</th>\n",
       "      <th>Race</th>\n",
       "      <th>Diabetic</th>\n",
       "      <th>PhysicalActivity</th>\n",
       "      <th>GenHealth</th>\n",
       "      <th>SleepTime</th>\n",
       "      <th>Asthma</th>\n",
       "      <th>KidneyDisease</th>\n",
       "      <th>SkinCancer</th>\n",
       "    </tr>\n",
       "  </thead>\n",
       "  <tbody>\n",
       "    <tr>\n",
       "      <th>0</th>\n",
       "      <td>No</td>\n",
       "      <td>16.60</td>\n",
       "      <td>Yes</td>\n",
       "      <td>No</td>\n",
       "      <td>No</td>\n",
       "      <td>3.0</td>\n",
       "      <td>30.0</td>\n",
       "      <td>No</td>\n",
       "      <td>Female</td>\n",
       "      <td>55-59</td>\n",
       "      <td>White</td>\n",
       "      <td>Yes</td>\n",
       "      <td>Yes</td>\n",
       "      <td>Very good</td>\n",
       "      <td>5.0</td>\n",
       "      <td>Yes</td>\n",
       "      <td>No</td>\n",
       "      <td>Yes</td>\n",
       "    </tr>\n",
       "    <tr>\n",
       "      <th>1</th>\n",
       "      <td>No</td>\n",
       "      <td>20.34</td>\n",
       "      <td>No</td>\n",
       "      <td>No</td>\n",
       "      <td>Yes</td>\n",
       "      <td>0.0</td>\n",
       "      <td>0.0</td>\n",
       "      <td>No</td>\n",
       "      <td>Female</td>\n",
       "      <td>80 or older</td>\n",
       "      <td>White</td>\n",
       "      <td>No</td>\n",
       "      <td>Yes</td>\n",
       "      <td>Very good</td>\n",
       "      <td>7.0</td>\n",
       "      <td>No</td>\n",
       "      <td>No</td>\n",
       "      <td>No</td>\n",
       "    </tr>\n",
       "    <tr>\n",
       "      <th>2</th>\n",
       "      <td>No</td>\n",
       "      <td>26.58</td>\n",
       "      <td>Yes</td>\n",
       "      <td>No</td>\n",
       "      <td>No</td>\n",
       "      <td>20.0</td>\n",
       "      <td>30.0</td>\n",
       "      <td>No</td>\n",
       "      <td>Male</td>\n",
       "      <td>65-69</td>\n",
       "      <td>White</td>\n",
       "      <td>Yes</td>\n",
       "      <td>Yes</td>\n",
       "      <td>Fair</td>\n",
       "      <td>8.0</td>\n",
       "      <td>Yes</td>\n",
       "      <td>No</td>\n",
       "      <td>No</td>\n",
       "    </tr>\n",
       "    <tr>\n",
       "      <th>3</th>\n",
       "      <td>No</td>\n",
       "      <td>24.21</td>\n",
       "      <td>No</td>\n",
       "      <td>No</td>\n",
       "      <td>No</td>\n",
       "      <td>0.0</td>\n",
       "      <td>0.0</td>\n",
       "      <td>No</td>\n",
       "      <td>Female</td>\n",
       "      <td>75-79</td>\n",
       "      <td>White</td>\n",
       "      <td>No</td>\n",
       "      <td>No</td>\n",
       "      <td>Good</td>\n",
       "      <td>6.0</td>\n",
       "      <td>No</td>\n",
       "      <td>No</td>\n",
       "      <td>Yes</td>\n",
       "    </tr>\n",
       "  </tbody>\n",
       "</table>\n",
       "</div>"
      ],
      "text/plain": [
       "  HeartDisease    BMI Smoking AlcoholDrinking Stroke  PhysicalHealth  \\\n",
       "0           No  16.60     Yes              No     No             3.0   \n",
       "1           No  20.34      No              No    Yes             0.0   \n",
       "2           No  26.58     Yes              No     No            20.0   \n",
       "3           No  24.21      No              No     No             0.0   \n",
       "\n",
       "   MentalHealth DiffWalking     Sex  AgeCategory   Race Diabetic  \\\n",
       "0          30.0          No  Female        55-59  White      Yes   \n",
       "1           0.0          No  Female  80 or older  White       No   \n",
       "2          30.0          No    Male        65-69  White      Yes   \n",
       "3           0.0          No  Female        75-79  White       No   \n",
       "\n",
       "  PhysicalActivity  GenHealth  SleepTime Asthma KidneyDisease SkinCancer  \n",
       "0              Yes  Very good        5.0    Yes            No        Yes  \n",
       "1              Yes  Very good        7.0     No            No         No  \n",
       "2              Yes       Fair        8.0    Yes            No         No  \n",
       "3               No       Good        6.0     No            No        Yes  "
      ]
     },
     "execution_count": 12,
     "metadata": {},
     "output_type": "execute_result"
    }
   ],
   "source": [
    "# coba classify single row\n",
    "\n",
    "single = df.head(4)\n",
    "single"
   ]
  },
  {
   "cell_type": "code",
   "execution_count": 13,
   "metadata": {
    "colab": {
     "base_uri": "https://localhost:8080/",
     "height": 175
    },
    "id": "we4R92A9Hebc",
    "outputId": "4d52735b-c8e6-4c0e-b11b-e3af22bf0772"
   },
   "outputs": [
    {
     "data": {
      "text/html": [
       "<div>\n",
       "<style scoped>\n",
       "    .dataframe tbody tr th:only-of-type {\n",
       "        vertical-align: middle;\n",
       "    }\n",
       "\n",
       "    .dataframe tbody tr th {\n",
       "        vertical-align: top;\n",
       "    }\n",
       "\n",
       "    .dataframe thead th {\n",
       "        text-align: right;\n",
       "    }\n",
       "</style>\n",
       "<table border=\"1\" class=\"dataframe\">\n",
       "  <thead>\n",
       "    <tr style=\"text-align: right;\">\n",
       "      <th></th>\n",
       "      <th>BMI</th>\n",
       "      <th>PhysicalHealth</th>\n",
       "      <th>MentalHealth</th>\n",
       "      <th>SleepTime</th>\n",
       "    </tr>\n",
       "  </thead>\n",
       "  <tbody>\n",
       "    <tr>\n",
       "      <th>0</th>\n",
       "      <td>16.60</td>\n",
       "      <td>3.0</td>\n",
       "      <td>30.0</td>\n",
       "      <td>5.0</td>\n",
       "    </tr>\n",
       "    <tr>\n",
       "      <th>1</th>\n",
       "      <td>20.34</td>\n",
       "      <td>0.0</td>\n",
       "      <td>0.0</td>\n",
       "      <td>7.0</td>\n",
       "    </tr>\n",
       "    <tr>\n",
       "      <th>2</th>\n",
       "      <td>26.58</td>\n",
       "      <td>20.0</td>\n",
       "      <td>30.0</td>\n",
       "      <td>8.0</td>\n",
       "    </tr>\n",
       "    <tr>\n",
       "      <th>3</th>\n",
       "      <td>24.21</td>\n",
       "      <td>0.0</td>\n",
       "      <td>0.0</td>\n",
       "      <td>6.0</td>\n",
       "    </tr>\n",
       "  </tbody>\n",
       "</table>\n",
       "</div>"
      ],
      "text/plain": [
       "     BMI  PhysicalHealth  MentalHealth  SleepTime\n",
       "0  16.60             3.0          30.0        5.0\n",
       "1  20.34             0.0           0.0        7.0\n",
       "2  26.58            20.0          30.0        8.0\n",
       "3  24.21             0.0           0.0        6.0"
      ]
     },
     "execution_count": 13,
     "metadata": {},
     "output_type": "execute_result"
    }
   ],
   "source": [
    "S = single.iloc[:,[1,5,6,14]]\n",
    "S"
   ]
  },
  {
   "cell_type": "code",
   "execution_count": 14,
   "metadata": {
    "colab": {
     "base_uri": "https://localhost:8080/"
    },
    "id": "xyEI8jPTH4eu",
    "outputId": "5ccf6976-b003-4fb0-e65c-4fbeb5f7f18a"
   },
   "outputs": [
    {
     "data": {
      "text/plain": [
       "array([[-1.40331529, -0.3306122 ,  1.        , -1.34164079],\n",
       "       [-0.41908666, -0.69128005, -1.        ,  0.4472136 ],\n",
       "       [ 1.22304881,  1.71317231,  1.        ,  1.34164079],\n",
       "       [ 0.59935313, -0.69128005, -1.        , -0.4472136 ]])"
      ]
     },
     "execution_count": 14,
     "metadata": {},
     "output_type": "execute_result"
    }
   ],
   "source": [
    "# standarisasi nilai-nilai dari dataset\n",
    "scaler = StandardScaler()\n",
    "scaler.fit(S)\n",
    "S = scaler.transform(S)\n",
    "S"
   ]
  },
  {
   "cell_type": "code",
   "execution_count": 15,
   "metadata": {
    "colab": {
     "base_uri": "https://localhost:8080/"
    },
    "id": "FSWDKDFwH5G2",
    "outputId": "d1e1ce95-397d-40cd-e398-ee6e53ef2be3"
   },
   "outputs": [
    {
     "data": {
      "text/plain": [
       "array(['No', 'No', 'No', 'No'], dtype=object)"
      ]
     },
     "execution_count": 15,
     "metadata": {},
     "output_type": "execute_result"
    }
   ],
   "source": [
    "y_pred = clf.predict(S)\n",
    "y_pred"
   ]
  },
  {
   "cell_type": "markdown",
   "metadata": {
    "id": "SxNBQTZkNY-0"
   },
   "source": [
    "Dari pemodelan dan evaluasi data di atas dapat disimpulkan bahwa keempat faktor yaitu BMI, MentalHealth, PhysicalHealth, dan SleepTime hanya dapat memprediksi apakah seseorang tidak menderita penyakit jantung (HeartDisease). Pada penelitian selanjutnya diharapkan untuk melakukan modeling dan evaluasi pada faktor-faktor lain yang ada dalam dataset ini agar bisa lebih memahami apakah faktor-faktor yang ada dalam dataset ini bisa memprediksi penyakit jantung atau tidak. "
   ]
  }
 ],
 "metadata": {
  "colab": {
   "name": "UTS Pembelajaran Mesin.ipynb",
   "provenance": []
  },
  "kernelspec": {
   "display_name": "Python 3 (ipykernel)",
   "language": "python",
   "name": "python3"
  },
  "language_info": {
   "codemirror_mode": {
    "name": "ipython",
    "version": 3
   },
   "file_extension": ".py",
   "mimetype": "text/x-python",
   "name": "python",
   "nbconvert_exporter": "python",
   "pygments_lexer": "ipython3",
   "version": "3.9.7"
  }
 },
 "nbformat": 4,
 "nbformat_minor": 1
}
